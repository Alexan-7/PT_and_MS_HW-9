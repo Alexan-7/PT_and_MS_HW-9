{
 "cells": [
  {
   "cell_type": "markdown",
   "id": "f1831d03",
   "metadata": {},
   "source": [
    "1. Даны значения величины заработной платы заемщиков банка (zp) и значения их поведенческого кредитного скоринга (ks): \n",
    "zp = [35, 45, 190, 200, 40, 70, 54, 150, 120, 110], \n",
    "ks = [401, 574, 874, 919, 459, 739, 653, 902, 746, 832]. \n",
    "Используя математические операции, посчитать коэффициенты линейной регрессии, приняв за X заработную плату (то есть, zp – признак), а за y – значения скорингового балла (то есть, ks – целевая переменная). Произвести расчет как с использованием intercept, так и без."
   ]
  },
  {
   "cell_type": "code",
   "execution_count": 2,
   "id": "9d5d27a2",
   "metadata": {},
   "outputs": [],
   "source": [
    "import numpy as np"
   ]
  },
  {
   "cell_type": "code",
   "execution_count": 3,
   "id": "781d312d",
   "metadata": {},
   "outputs": [
    {
     "data": {
      "text/plain": [
       "(array([ 35,  45, 190, 200,  40,  70,  54, 150, 120, 110]),\n",
       " array([401, 574, 874, 919, 459, 739, 653, 902, 746, 832]))"
      ]
     },
     "execution_count": 3,
     "metadata": {},
     "output_type": "execute_result"
    }
   ],
   "source": [
    "zp = np.array([35, 45, 190, 200, 40, 70, 54, 150, 120, 110])\n",
    "ks = np.array([401, 574, 874, 919, 459, 739, 653, 902, 746, 832])\n",
    "zp, ks"
   ]
  },
  {
   "cell_type": "code",
   "execution_count": 4,
   "id": "87458041",
   "metadata": {},
   "outputs": [
    {
     "data": {
      "text/plain": [
       "2.620538882402765"
      ]
     },
     "execution_count": 4,
     "metadata": {},
     "output_type": "execute_result"
    }
   ],
   "source": [
    "b = (np.mean(zp*ks)-np.mean(zp)*np.mean(ks))/(np.mean(zp**2)-np.mean(zp)**2)\n",
    "b"
   ]
  },
  {
   "cell_type": "code",
   "execution_count": 5,
   "id": "55e915d0",
   "metadata": {},
   "outputs": [
    {
     "data": {
      "text/plain": [
       "444.1773573243596"
      ]
     },
     "execution_count": 5,
     "metadata": {},
     "output_type": "execute_result"
    }
   ],
   "source": [
    "a = np.mean(ks) - b * np.mean(zp)\n",
    "a"
   ]
  },
  {
   "cell_type": "markdown",
   "id": "428d06f1",
   "metadata": {},
   "source": [
    "Получено уравнение регрессии y = 444.18 + 2.62 * x"
   ]
  },
  {
   "cell_type": "code",
   "execution_count": 6,
   "id": "5dc321ec",
   "metadata": {},
   "outputs": [
    {
     "data": {
      "text/plain": [
       "5.889820420132688"
      ]
     },
     "execution_count": 6,
     "metadata": {},
     "output_type": "execute_result"
    }
   ],
   "source": [
    "# Уравнение без интерсепта:\n",
    "beta = np.mean(ks*zp)/np.mean(zp**2)\n",
    "beta"
   ]
  },
  {
   "cell_type": "raw",
   "id": "53521dd5",
   "metadata": {},
   "source": [
    "y = 5.89 * x"
   ]
  },
  {
   "cell_type": "markdown",
   "id": "cfa8375d",
   "metadata": {},
   "source": [
    "Матричный метод расчета коэффициентов линейной регрессии"
   ]
  },
  {
   "cell_type": "code",
   "execution_count": 7,
   "id": "3e0dfd5f",
   "metadata": {},
   "outputs": [
    {
     "data": {
      "text/plain": [
       "array([[ 35],\n",
       "       [ 45],\n",
       "       [190],\n",
       "       [200],\n",
       "       [ 40],\n",
       "       [ 70],\n",
       "       [ 54],\n",
       "       [150],\n",
       "       [120],\n",
       "       [110]])"
      ]
     },
     "execution_count": 7,
     "metadata": {},
     "output_type": "execute_result"
    }
   ],
   "source": [
    "# Если мы хотим построить модель без интерсепта, тогда просто не добавляем столбец единиц.\n",
    "x = zp.reshape((10, 1))\n",
    "x"
   ]
  },
  {
   "cell_type": "code",
   "execution_count": 8,
   "id": "52cf28a4",
   "metadata": {},
   "outputs": [
    {
     "data": {
      "text/plain": [
       "array([[401],\n",
       "       [574],\n",
       "       [874],\n",
       "       [919],\n",
       "       [459],\n",
       "       [739],\n",
       "       [653],\n",
       "       [902],\n",
       "       [746],\n",
       "       [832]])"
      ]
     },
     "execution_count": 8,
     "metadata": {},
     "output_type": "execute_result"
    }
   ],
   "source": [
    "y = ks.reshape((10, 1))\n",
    "y"
   ]
  },
  {
   "cell_type": "code",
   "execution_count": 9,
   "id": "f0c57268",
   "metadata": {},
   "outputs": [],
   "source": [
    "# интерсепт через функцию Python\n",
    "# from sklearn.linear_model import LinearRegression\n",
    "# regres = model.fit(x, y)\n",
    "# print(regres.intersept_) "
   ]
  },
  {
   "cell_type": "code",
   "execution_count": 10,
   "id": "a7642817",
   "metadata": {},
   "outputs": [
    {
     "data": {
      "text/plain": [
       "array([[5.88982042]])"
      ]
     },
     "execution_count": 10,
     "metadata": {},
     "output_type": "execute_result"
    }
   ],
   "source": [
    "x = zp.reshape((10, 1))\n",
    "y = ks.reshape((10, 1))\n",
    "B = np.dot(np.linalg.inv(np.dot(x.T,x)), x.T @ y)\n",
    "B"
   ]
  },
  {
   "cell_type": "markdown",
   "id": "8e7e149f",
   "metadata": {},
   "source": [
    "Уравнение регрессии без интерсепта: y = 5.88982042 * x"
   ]
  },
  {
   "cell_type": "code",
   "execution_count": 11,
   "id": "601b5700",
   "metadata": {},
   "outputs": [
    {
     "data": {
      "text/plain": [
       "array([[  1.,  35.],\n",
       "       [  1.,  45.],\n",
       "       [  1., 190.],\n",
       "       [  1., 200.],\n",
       "       [  1.,  40.],\n",
       "       [  1.,  70.],\n",
       "       [  1.,  54.],\n",
       "       [  1., 150.],\n",
       "       [  1., 120.],\n",
       "       [  1., 110.]])"
      ]
     },
     "execution_count": 11,
     "metadata": {},
     "output_type": "execute_result"
    }
   ],
   "source": [
    "X = np.hstack([np.ones((10, 1)), x])\n",
    "X"
   ]
  },
  {
   "cell_type": "code",
   "execution_count": 12,
   "id": "2e53d7af",
   "metadata": {},
   "outputs": [
    {
     "data": {
      "text/plain": [
       "array([[444.17735732],\n",
       "       [  2.62053888]])"
      ]
     },
     "execution_count": 12,
     "metadata": {},
     "output_type": "execute_result"
    }
   ],
   "source": [
    "B = np.dot(np.linalg.inv(np.dot(X.T,X)), X.T @ y)\n",
    "B"
   ]
  },
  {
   "cell_type": "markdown",
   "id": "3179857e",
   "metadata": {},
   "source": [
    "Уравнение регрессии с интерсептом: y = 444.17735732 - 2.62053888 * x"
   ]
  },
  {
   "cell_type": "code",
   "execution_count": 13,
   "id": "1a9f9317",
   "metadata": {},
   "outputs": [
    {
     "data": {
      "image/png": "[encoded data removed]",
      "text/plain": [
       "<Figure size 640x480 with 1 Axes>"
      ]
     },
     "metadata": {},
     "output_type": "display_data"
    }
   ],
   "source": [
    "# визуализируем результат\n",
    "import matplotlib.pyplot as plt\n",
    "plt.title('Визуализация данных')\n",
    "plt.scatter(zp, ks) # график разброса\n",
    "plt.xlabel('Заработная плата заёмщика')\n",
    "plt.ylabel('Поведенческий кредитный скоринг')\n",
    "plt.plot(zp, 444.18 + 2.62 * zp, color='red', label='With intercept')\n",
    "plt.plot(zp, 5.89 * zp, color='green', label='Without intercept')\n",
    "plt.legend()  # чтобы отражались подписи label\n",
    "plt.show()"
   ]
  },
  {
   "cell_type": "raw",
   "id": "4218331e",
   "metadata": {},
   "source": []
  },
  {
   "cell_type": "markdown",
   "id": "e4b9db48",
   "metadata": {},
   "source": [
    "2. Посчитать коэффициент линейной регрессии при заработной плате (zp), используя градиентный спуск (без intercept)."
   ]
  },
  {
   "cell_type": "code",
   "execution_count": 14,
   "id": "8a179db5",
   "metadata": {},
   "outputs": [
    {
     "name": "stdout",
     "output_type": "stream",
     "text": [
      "Iteration = 0, B1 = 0.25952808, mse = 493237.7212546963\n",
      "Iteration = 300, B1 = 5.888531320728348, mse = 56516.88130936019\n",
      "Iteration = 600, B1 = 5.889820124983314, mse = 56516.85841572062\n",
      "Iteration = 900, B1 = 5.889820420065112, mse = 56516.85841571941\n",
      "Iteration = 1200, B1 = 5.889820420132673, mse = 56516.85841571943\n",
      "Iteration = 1500, B1 = 5.889820420132673, mse = 56516.85841571943\n",
      "Iteration = 1800, B1 = 5.889820420132673, mse = 56516.85841571943\n",
      "Iteration = 2100, B1 = 5.889820420132673, mse = 56516.85841571943\n",
      "Iteration = 2400, B1 = 5.889820420132673, mse = 56516.85841571943\n",
      "Iteration = 2700, B1 = 5.889820420132673, mse = 56516.85841571943\n",
      "Iteration = 3000, B1 = 5.889820420132673, mse = 56516.85841571943\n"
     ]
    }
   ],
   "source": [
    "# градиентный спуск\n",
    "def mse_(B1, y = ks, x = zp, n = 10):\n",
    "    return np.sum((B1*x - y)**2) / n # mse - средняя квадратичная ошибка без интерсепта\n",
    "\n",
    "alpha = 1e-6\n",
    "B1 = 0.1\n",
    "n = 10\n",
    "\n",
    "for i in range(3000 + 1): # + 1, чтобы вывел 3000ю итерацию\n",
    "    B1 -= alpha * (2/n) * np.sum((B1 * x - y) * x)\n",
    "    if i % 300 == 0: # будем выводить каждую 300-ю итерацию\n",
    "        print('Iteration = {i}, B1 = {B1}, mse = {mse}'.format(i = i, B1 = B1, mse = mse_(B1)))"
   ]
  },
  {
   "cell_type": "raw",
   "id": "20c8596a",
   "metadata": {},
   "source": [
    "Уравнение линейной регрессии без интерсепта по методу градиентного спуска:\n",
    "y = 5.88982 * x"
   ]
  },
  {
   "cell_type": "raw",
   "id": "83d1de9b",
   "metadata": {},
   "source": []
  },
  {
   "cell_type": "markdown",
   "id": "80e895f6",
   "metadata": {},
   "source": [
    "3. Произвести вычисления как в пункте 2, но с вычислением intercept. Учесть, что изменение коэффициентов должно производиться на каждом шаге одновременно (то есть изменение одного коэффициента не должно влиять на изменение другого во время одной итерации)."
   ]
  },
  {
   "cell_type": "code",
   "execution_count": 17,
   "id": "744dad0c",
   "metadata": {},
   "outputs": [
    {
     "name": "stdout",
     "output_type": "stream",
     "text": [
      "Iteration = 0, B1 = 1.6950780000000003, B0 = 0.110758381816\n",
      "Iteration = 500000, B1 = 2.879192093262043, B0 = 409.03636900034104\n",
      "Iteration = 1000000, B1 = 2.641008305785271, B0 = 441.3963527286912\n",
      "Iteration = 1500000, B1 = 2.622158801568773, B0 = 443.9572728324277\n",
      "Iteration = 2000000, B1 = 2.6206670803521663, B0 = 444.15994017099007\n",
      "Iteration = 2500000, B1 = 2.6205490277943326, B0 = 444.17597895721923\n",
      "Iteration = 3000000, B1 = 2.6205396852936835, B0 = 444.17724824247233\n",
      "Iteration = 3500000, B1 = 2.6205389459423394, B0 = 444.1773486917838\n",
      "Iteration = 4000000, B1 = 2.6205388874313043, B0 = 444.17735664117527\n",
      "Iteration = 4500000, B1 = 2.62053888280182, B0 = 444.1773572701435\n",
      "Iteration = 5000000, B1 = 2.6205388824440017, B0 = 444.1773573187572\n"
     ]
    }
   ],
   "source": [
    "# коэффициенты подбираются так, что сумма квадратов расстояний от \n",
    "# синих точек до прямой минимальна. Иными словами, в основе линейной \n",
    "# регрессии лежит метода наименьших квадратов.\n",
    "\n",
    "def mse_(B0, B1, y = ks, x = zp, n = 10):\n",
    "    return (2/n) * np.sum((B0 + B1 * x - y) * x)\n",
    "alpha = 1e-5\n",
    "B1 = 0.1\n",
    "B0 = 0.1\n",
    "n = 10\n",
    "\n",
    "for i in range(5000000 + 1): # + 1\n",
    "    B1 -= alpha * (2/n) * np.sum((B0 + B1 * x - y) * x) # коэффициент при x\n",
    "    B0 -= alpha * (2/n) * np.sum((B0 + B1 * x - y))     # свободный коэффициент\n",
    "    if i % 500000 == 0:\n",
    "        print('Iteration = {i}, B1 = {B1}, B0 = {B0}'.format(i = i, B1 = B1, B0 = B0))"
   ]
  },
  {
   "cell_type": "code",
   "execution_count": null,
   "id": "daa5db0d",
   "metadata": {},
   "outputs": [],
   "source": []
  },
  {
   "cell_type": "markdown",
   "id": "63c31a1f",
   "metadata": {},
   "source": [
    "Уравнение регрессии с intercept, найденное через градиентный спуск: y = 444.177 - 2.6205 * x"
   ]
  }
 ],
 "metadata": {
  "kernelspec": {
   "display_name": "Python 3 (ipykernel)",
   "language": "python",
   "name": "python3"
  },
  "language_info": {
   "codemirror_mode": {
    "name": "ipython",
    "version": 3
   },
   "file_extension": ".py",
   "mimetype": "text/x-python",
   "name": "python",
   "nbconvert_exporter": "python",
   "pygments_lexer": "ipython3",
   "version": "3.11.0"
  }
 },
 "nbformat": 4,
 "nbformat_minor": 5
}
